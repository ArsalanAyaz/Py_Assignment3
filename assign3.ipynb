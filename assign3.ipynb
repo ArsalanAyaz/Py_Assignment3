{
 "cells": [
  {
   "cell_type": "markdown",
   "metadata": {},
   "source": [
    "#Variables and operatos\n",
    "\n"
   ]
  },
  {
   "cell_type": "code",
   "execution_count": null,
   "metadata": {},
   "outputs": [],
   "source": [
    "#1Print the sum of two variables.\n",
    "\n",
    "a= int(input(\"Enter your first number :\"))\n",
    "b=int(input(\"Enter your second number :\"))\n",
    "\n",
    "def sum():\n",
    "      \n",
    "        result = a + b\n",
    "        print(\"your sum is =\",result)\n",
    "sum()    "
   ]
  },
  {
   "cell_type": "code",
   "execution_count": null,
   "metadata": {},
   "outputs": [],
   "source": [
    "#2 Swap the values of two variables without using a temporary variable.\n",
    "\n",
    "a = 5\n",
    "b = 16\n",
    "\n",
    "a, b = b, a\n",
    "\n",
    "print(\"After swapping:\")\n",
    "print(\"a =\", a)\n",
    "print(\"b =\", b)\n"
   ]
  },
  {
   "cell_type": "code",
   "execution_count": null,
   "metadata": {},
   "outputs": [],
   "source": [
    "#3 Calculate the area of a rectangle using user input for length and width.\n",
    "\n",
    "length= int(input(\"Enter the length :\"))\n",
    "width=int(input(\"Enter the width :\"))\n",
    "\n",
    "def area():\n",
    "    area=length*width\n",
    "    print(\"the area of reactangle = \", area)\n",
    "    \n",
    "area()    "
   ]
  },
  {
   "cell_type": "code",
   "execution_count": null,
   "metadata": {},
   "outputs": [],
   "source": [
    "#4  Convert temperature from Celsius to Fahrenheit.\n",
    "\n",
    "\n",
    "\n",
    "def conversion(celcius):\n",
    "    farenheit= (celcius*9/5)+32\n",
    "    print(f\"{celcius} celcius = {farenheit:.2f} farenheit\")\n",
    "       \n",
    "celcius=float(input(\"Enter the temprature in celcius\"))\n",
    "conversion(celcius)\n",
    "\n",
    "\n"
   ]
  },
  {
   "cell_type": "code",
   "execution_count": null,
   "metadata": {},
   "outputs": [],
   "source": [
    "#5 Create a program that takes user input for the\n",
    "# radius and calculates the area of a circle\n",
    "\n",
    "import math\n",
    "\n",
    "def CircleArea():\n",
    "    area = math.pi*radius**2\n",
    "    print(f\"The area of circle = {area}\")\n",
    "radius=int(input(\"Enter the radius of the reactangular\")) \n",
    "CircleArea()\n",
    "   \n",
    "    \n"
   ]
  },
  {
   "cell_type": "markdown",
   "metadata": {},
   "source": [
    "If-elif Statements"
   ]
  },
  {
   "cell_type": "code",
   "execution_count": null,
   "metadata": {},
   "outputs": [],
   "source": [
    "#6  Check if a number is positive, negative, or zero.\n",
    "\n",
    "number=int(input(\"enter your number :\"))\n",
    "\n",
    "if number==0:\n",
    "    print(number ,\"your number is zero\")\n",
    "elif number>0:\n",
    "    print(number,\" is positive number\")\n",
    "else:\n",
    "    print(number,\" is negative number\")"
   ]
  },
  {
   "cell_type": "code",
   "execution_count": null,
   "metadata": {},
   "outputs": [],
   "source": [
    "#7 Determine if a given year is a leap year.\n",
    "\n",
    "year = int(input(\"Enter the year\"))\n",
    "\n",
    "if year%4==0:\n",
    "    print(year,\"is leap year\")\n",
    "else:\n",
    "    print(year,\"is not leap year\")    "
   ]
  },
  {
   "cell_type": "code",
   "execution_count": null,
   "metadata": {},
   "outputs": [],
   "source": [
    "#8 Implement a simple calculator with if-elif statements.\n",
    "\n",
    "num1 = float(input(\"Enter your first number:\"))\n",
    "operator = input(\"select your operator(+,-,*,/):\")\n",
    "num2 = float(input(\"Enter your second number:\"))\n",
    "\n",
    "\n",
    "\n",
    "if operator==\"+\":\n",
    "    print(num1+num2)\n",
    "elif operator==\"-\":\n",
    "    print(num1-num2)\n",
    "elif operator==\"*\":\n",
    "    print(num1*num2)\n",
    "else:\n",
    "    if num2 != 0:\n",
    "        print(num1/num2)\n",
    "    else:\n",
    "        print(\"Error! Division by zero is not allowed\")    "
   ]
  },
  {
   "cell_type": "code",
   "execution_count": null,
   "metadata": {},
   "outputs": [],
   "source": [
    "#9 Check if a number is even or odd.\n",
    "\n",
    "number =int(input(\"Enter the number :\"))\n",
    "\n",
    "if number%2==0:\n",
    "    print(f\"{number} is even\")\n",
    "elif number==0:\n",
    "    print(\"The number is zero\")    \n",
    "else:\n",
    "    print(f\"{number} is odd\")    "
   ]
  },
  {
   "cell_type": "code",
   "execution_count": null,
   "metadata": {},
   "outputs": [],
   "source": [
    "#10 Compare three numbers and find the largest one.\n",
    "\n",
    "\n",
    "num1 = int(input(\"Enter the first number\"))\n",
    "num2 = int(input(\"Enter the second number\"))\n",
    "num3 = int(input(\"Enter the third number\"))\n",
    "\n",
    "if num1>num2 and num1>num3:\n",
    "    print(f\"{num1} is greater among all of them\")\n",
    "elif num2>num1 and num2>num3:\n",
    "    print(f\"{num2} is greater among all of them\")\n",
    "else:\n",
    "    print(f\"{num3} is greatest among all of them\")    \n",
    "    "
   ]
  },
  {
   "cell_type": "markdown",
   "metadata": {},
   "source": [
    "functions\n"
   ]
  },
  {
   "cell_type": "code",
   "execution_count": null,
   "metadata": {},
   "outputs": [],
   "source": [
    "#11  Write a function to calculate the factorial of a number\n",
    "\n",
    "\n",
    "def calculate_factorial():\n",
    "    factorial = int(input(\"Enter the factorial number which should be greater than zero: \"))\n",
    "    result = 1\n",
    "\n",
    "    if factorial >= 1:\n",
    "        for i in range(1, factorial + 1):\n",
    "            result = result * i\n",
    "        print(f\"The factorial of {factorial} is {result}\")\n",
    "    else:\n",
    "        print(\"Invalid input\")\n",
    "\n",
    "calculate_factorial()\n"
   ]
  },
  {
   "cell_type": "code",
   "execution_count": null,
   "metadata": {},
   "outputs": [],
   "source": [
    "#12 Create a function to check if a number is prime.\n",
    "\n",
    "\n",
    "number=int(input(\"Enter the number which must be greater than zero:\"))\n",
    "\n",
    "if number > 2 :\n",
    "    for i in range(2,int(number**0.5) + 1):\n",
    "        if number % i == 0:\n",
    "             print(f\"{number} is not prime\")\n",
    "        else :\n",
    "             print(f\"{number} is prime\") \n",
    "             \n",
    "else:\n",
    "    print(\"Invlid number ! your number must be greater than 2\")                "
   ]
  },
  {
   "cell_type": "code",
   "execution_count": null,
   "metadata": {},
   "outputs": [],
   "source": [
    "#13 Define a function to find the square of a number.\n",
    "\n",
    "number = int(input(\"enter the number :\"))\n",
    "result=number**2\n",
    "print(f\"The square root of '{number}' is =\",result)"
   ]
  },
  {
   "cell_type": "code",
   "execution_count": null,
   "metadata": {},
   "outputs": [],
   "source": [
    "#14 Write a function that returns the reverse of a string.\n",
    "\n",
    "string=input(\"Enter the string\")\n",
    "\n",
    "def reverse_string(string):\n",
    "    return string[::-1]\n",
    "result=reverse_string(string)\n",
    "print(f\"The reverse string of '{string}' is =\", result)"
   ]
  },
  {
   "cell_type": "code",
   "execution_count": null,
   "metadata": {},
   "outputs": [],
   "source": [
    "#15 Implement a function that counts the number of vowels in a given string.\n",
    "\n",
    "string=input(\"Enter your string :\")\n",
    "\n",
    "def check_vowels (string):\n",
    "    vowels='aeiouAEIOU'\n",
    "    count=0\n",
    "    for i in vowels:\n",
    "        count += 1\n",
    "        return count\n",
    "        \n",
    "result=check_vowels(string)    \n",
    "print(f\"The number of vowels in '{string}' =\", result)    \n",
    "       "
   ]
  },
  {
   "cell_type": "markdown",
   "metadata": {},
   "source": [
    "Lists and its Methods"
   ]
  },
  {
   "cell_type": "code",
   "execution_count": null,
   "metadata": {},
   "outputs": [],
   "source": [
    "#16 Create a list of integers and find the sum of all elements.\n",
    "\n",
    "\n",
    "integer_list = [10, 3, 15, 7]\n",
    "sum_of_elements = sum(integer_list)\n",
    "print(\"Sum of all elements:\", sum_of_elements)\n"
   ]
  },
  {
   "cell_type": "code",
   "execution_count": null,
   "metadata": {},
   "outputs": [],
   "source": [
    "#17 Find the maximum and minimum values in a list of numbers.\n",
    "\n",
    "number_list = [25, 10, 42, 8, 56, 13, 5, 30]\n",
    "\n",
    "max_value = max(number_list)\n",
    "min_value = min(number_list)\n",
    "\n",
    "\n",
    "print(\"Maximum value:\", max_value)\n",
    "print(\"Minimum value:\", min_value)\n"
   ]
  },
  {
   "cell_type": "code",
   "execution_count": null,
   "metadata": {},
   "outputs": [],
   "source": [
    "#18 Check if a specific element exists in a list.\n",
    "\n",
    "list=[4,6,8,9,11]\n",
    "specific_element = int(input(\"\"\"Enter the number between 1 & 11 to check that \n",
    "                             it is present in the list or not\"\"\"))\n",
    "if specific_element <= 11:\n",
    "    if specific_element in list:\n",
    "     print(print(f\"{specific_element} exists in the list.\"))\n",
    "    else:\n",
    "     print(print(f\"{specific_element} does not exists in the list.\"))  \n",
    "else:\n",
    "    print(\"Please enter the number between 1 and 11\")\n"
   ]
  },
  {
   "cell_type": "code",
   "execution_count": null,
   "metadata": {},
   "outputs": [],
   "source": [
    "#19 Create a program to remove duplicates from a list.\n",
    "\n",
    "\n",
    "original_list = [2, 4, 6, 8, 2, 10, 12, 4, 14, 16, 6]\n",
    "\n",
    "unique_list = set(original_list)\n",
    "\n",
    "print(\"Original list with duplicates:\", original_list)\n",
    "print(\"List after removing duplicates:\", unique_list)\n",
    "\n"
   ]
  },
  {
   "cell_type": "code",
   "execution_count": null,
   "metadata": {},
   "outputs": [],
   "source": [
    "#20 Use list comprehension to create a new list with even numbers from an existing list.\n",
    "\n",
    "my_list = [1, 2, 3, 4, 5, 6, 7, 8, 9, 10]\n",
    "\n",
    "for num in my_list:\n",
    "    if num % 2 == 0:\n",
    "        print(num)\n"
   ]
  },
  {
   "cell_type": "markdown",
   "metadata": {},
   "source": [
    "*Miscellaneous:*"
   ]
  },
  {
   "cell_type": "code",
   "execution_count": null,
   "metadata": {},
   "outputs": [],
   "source": [
    "#21 Write a program to check if a string is a palindrome.\n",
    "\n",
    "origional_string = input(\"Enter the string: \")\n",
    "palindrome = origional_string.replace(\" \", \"\").lower()[::-1]\n",
    "\n",
    "if origional_string == palindrome:\n",
    "    print(f\"'{origional_string}' is a palindrome!\")\n",
    "else:\n",
    "    print(f\"'{origional_string}' is not a palindrome.\")\n"
   ]
  },
  {
   "cell_type": "code",
   "execution_count": null,
   "metadata": {},
   "outputs": [],
   "source": [
    "#22  Implement a basic rock-paper-scissors game.\n",
    "\n",
    "import random\n",
    "\n",
    "while True:\n",
    "    user_choice = input(\"Enter your choice ('rock', 'paper', 'scissors'): \").lower()\n",
    "\n",
    "    computer_choice = random.choice([\"rock\", \"paper\", \"scissors\"])\n",
    "\n",
    "    print(\"User Choice:\",user_choice)\n",
    "    print(\"Computer Choice:\",computer_choice) \n",
    "\n",
    "    if user_choice == computer_choice:\n",
    "        print(\"It's a Tie!\")\n",
    "    elif (\n",
    "        (user_choice == \"rock\" and computer_choice == 'scissors') or\n",
    "        (user_choice == \"scissors\" and computer_choice == 'paper') or\n",
    "        (user_choice == \"paper\" and computer_choice == 'rock')\n",
    "    ):\n",
    "        print(\"You Won!\")\n",
    "    else:\n",
    "        print(\"Computer Won!\")\n",
    "\n",
    "    play_again = input(\"Do you want to play again? (yes/no): \").lower()\n",
    "    if play_again != 'yes':\n",
    "        break\n",
    "\n"
   ]
  },
  {
   "cell_type": "code",
   "execution_count": null,
   "metadata": {},
   "outputs": [],
   "source": [
    "#23 Create a simple login system with a predefined username and password.\n",
    "\n",
    "user_name=\"arsalan ayaz\"\n",
    "user_password=12345678\n",
    "user_email=\"arsalan821@gmail.com\"\n",
    "\n",
    "for attempts in range(3):\n",
    "    name=input(\"enter your name :\")\n",
    "    Password=input(\"enter your password :\")\n",
    "    email=input(\"enter your email :\")\n",
    "    \n",
    "    if user_name==name and user_password==Password and user_email==email :\n",
    "        print(\"login successfully !\")\n",
    "        break\n",
    "    else:\n",
    "        print(\"incorrect password, name or email\")\n",
    "        \n",
    "else:\n",
    "    print(\"Too many attempts ! Account blocked.\")        \n",
    "        \n",
    "        "
   ]
  },
  {
   "cell_type": "code",
   "execution_count": null,
   "metadata": {},
   "outputs": [],
   "source": [
    "#24 Generate a random number and ask the user to guess it.\n",
    "\n",
    "\n",
    "import random\n",
    "\n",
    "\n",
    "secret_number = random.choice(range(1,11))\n",
    "\n",
    "max_attempts = 5\n",
    "attempts = 0\n",
    "\n",
    "print(\"Guess the number between 1 and 10\")\n",
    "\n",
    "while attempts < max_attempts:\n",
    "\n",
    "    guess = int(input(\"Enter your guess: \"))\n",
    "    if guess == secret_number:\n",
    "        print(\"Congratulations! You guessed the correct number.\")\n",
    "        break\n",
    "    else:\n",
    "        \n",
    "        if guess < secret_number:\n",
    "            print(\"Try a higher number.\")\n",
    "        else:\n",
    "            print(\"Try a lower number.\")\n",
    "\n",
    "    attempts += 1\n",
    "\n",
    "else:\n",
    "    print(f\"Sorry, you've reached the maximum number of attempts. The correct number was {secret_number}.\")\n"
   ]
  },
  {
   "cell_type": "code",
   "execution_count": null,
   "metadata": {},
   "outputs": [],
   "source": [
    "#25  Write a function to calculate the factorial of a number\n",
    "\n",
    "\n",
    "def calculate_factorial():\n",
    "    factorial = int(input(\"Enter the factorial number which should be greater than zero: \"))\n",
    "    result = 1\n",
    "\n",
    "    if factorial >= 1:\n",
    "        for i in range(1, factorial + 1):\n",
    "            result = result * i\n",
    "        print(f\"The factorial of {factorial} is {result}\")\n",
    "    else:\n",
    "        print(\"Invalid input\")\n",
    "\n",
    "calculate_factorial()\n"
   ]
  }
 ],
 "metadata": {
  "kernelspec": {
   "display_name": "Python 3",
   "language": "python",
   "name": "python3"
  },
  "language_info": {
   "codemirror_mode": {
    "name": "ipython",
    "version": 3
   },
   "file_extension": ".py",
   "mimetype": "text/x-python",
   "name": "python",
   "nbconvert_exporter": "python",
   "pygments_lexer": "ipython3",
   "version": "3.12.1"
  }
 },
 "nbformat": 4,
 "nbformat_minor": 2
}
